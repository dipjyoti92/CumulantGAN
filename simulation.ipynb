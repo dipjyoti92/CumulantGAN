{
 "cells": [
  {
   "cell_type": "markdown",
   "metadata": {},
   "source": [
    "# Cumulant GAN\n",
    "\n",
    "In this experiment, we illustrate a novel loss function for training Generative Adversarial Networks (GANs) aiming towards deeper theoretical understanding as well as improved stability and performance for the underlying optimization problem.\n",
    "\n",
    "Different parameter values of beta and gamma represents different Divergence minimization.\n",
    "\n",
    "##### Wasserstein: beta: 0 & gamma:0\n",
    "##### KL: beta: 0 & gamma:1\n",
    "##### Reverse KL: beta: 1 & gamma:0\n",
    "#####  Hellinger: beta: 0.5 & gamma:0.5"
   ]
  },
  {
   "cell_type": "markdown",
   "metadata": {},
   "source": [
    "# Synthetic data\n",
    "\n",
    "### GMM 8\n",
    "The dataset is the GMM with 8 equiprobable modes as in the main text."
   ]
  },
  {
   "cell_type": "code",
   "execution_count": null,
   "metadata": {},
   "outputs": [],
   "source": [
    "!python cumgan_gmm8.py --epochs 10000 --disc_iters 5 \\\n",
    "        --beta 0 --gamma 0 --iteration 0 --sess_name gmm8"
   ]
  },
  {
   "cell_type": "markdown",
   "metadata": {},
   "source": [
    "### Exploring the d-rays\n",
    "\n",
    "The training dynamics across different d-rays:"
   ]
  },
  {
   "cell_type": "code",
   "execution_count": null,
   "metadata": {},
   "outputs": [],
   "source": [
    "!python cumgan_rays_gmm8.py --epochs 10000 --disc_iters 5 \\\n",
    "        --beta 0 --gamma 0 --iteration 0 --sess_name gmm8_ray"
   ]
  },
  {
   "cell_type": "markdown",
   "metadata": {},
   "source": [
    "###  Swiss-roll (i.e., spiral) dataset"
   ]
  },
  {
   "cell_type": "code",
   "execution_count": null,
   "metadata": {},
   "outputs": [],
   "source": [
    "!python cumgan_swissroll.py --epochs 100000 --disc_iters 5 \\\n",
    "        --beta 0.5 --gamma 0.5 --iteration 0 --sess_name swissroll"
   ]
  },
  {
   "cell_type": "markdown",
   "metadata": {
    "pycharm": {
     "is_executing": true
    }
   },
   "source": [
    "### TMM 6\n",
    "\n",
    "mixture model of 6 equiprobable Student’s t distributions"
   ]
  },
  {
   "cell_type": "code",
   "execution_count": null,
   "metadata": {
    "pycharm": {
     "is_executing": true
    }
   },
   "outputs": [],
   "source": [
    "!python cumgan_tmm6.py --epochs 10000 --disc_iters 5 \\\n",
    "        --beta 0 --gamma 0 --iteration 0 --sess_name tmm6"
   ]
  },
  {
   "cell_type": "markdown",
   "metadata": {},
   "source": []
  },
  {
   "cell_type": "markdown",
   "metadata": {
    "pycharm": {
     "is_executing": true
    }
   },
   "source": []
  },
  {
   "cell_type": "markdown",
   "metadata": {},
   "source": [
    "# Real Datasets\n",
    "\n",
    "A series of experiments have been conducted on CIFAR-10 and ImageNet datasets demonstrating the effectivenessof cumulant GAN.\n"
   ]
  },
  {
   "cell_type": "markdown",
   "metadata": {},
   "source": [
    "Conv layers: \n",
    "Generator layers: 3 & Discriminator layers: 1"
   ]
  },
  {
   "cell_type": "code",
   "execution_count": null,
   "metadata": {},
   "outputs": [],
   "source": [
    "!python cumgan_cifar_weak_dis.py --epochs 200000 --disc_iters 5 \\\n",
    "        --mode wgan-gp --beta 0 --gamma 0 --iteration 0 --sess_name cifar_weak_conv_000"
   ]
  },
  {
   "cell_type": "markdown",
   "metadata": {},
   "source": [
    "Residual blocks:\n",
    "Generator layers: 4 & Discriminator layers: 2"
   ]
  },
  {
   "cell_type": "code",
   "execution_count": null,
   "metadata": {},
   "outputs": [],
   "source": [
    "!python cumgan_cifar_resnet_weak_dis.py --epochs 200000 --disc_iters 5 \\\n",
    "        --mode wgan-gp --beta 0 --gamma 0 --iteration 0 --sess_name cifar_weak_resnet_000"
   ]
  },
  {
   "cell_type": "markdown",
   "metadata": {},
   "source": [
    "Residual blocks:\n",
    "Generator layers: 4 & Discriminator layers: 3"
   ]
  },
  {
   "cell_type": "code",
   "execution_count": null,
   "metadata": {},
   "outputs": [],
   "source": [
    "!python cumgan_cifar_resnet_version1.py --epochs 200000 --disc_iters 5 \\\n",
    "        --mode wgan-gp --beta 0 --gamma 0 --iteration 0 --sess_name cifar_resnetv1_000"
   ]
  },
  {
   "cell_type": "markdown",
   "metadata": {},
   "source": [
    "Residual blocks:\n",
    "Generator layers: 4 & Discriminator layers: 4"
   ]
  },
  {
   "cell_type": "code",
   "execution_count": null,
   "metadata": {},
   "outputs": [],
   "source": [
    "!python cumgan_cifar_resnet_version2.py --epochs 200000 --disc_iters 5 \\\n",
    "        --mode wgan-gp --beta 0 --gamma 0 --iteration 0 --sess_name cifar_weak_resnetv2_000"
   ]
  },
  {
   "cell_type": "markdown",
   "metadata": {},
   "source": [
    "Residual blocks:\n",
    "Generator layers: 4 & Discriminator layers: 2"
   ]
  },
  {
   "cell_type": "code",
   "execution_count": null,
   "metadata": {},
   "outputs": [],
   "source": [
    "!python cumgan_imagenet_resnet_weak_dis.py --epochs 500000 --disc_iters 5 \\\n",
    "        --mode wgan-gp --beta 0 --gamma 0 --iteration 0 --sess_name imagenet_weak_resnet_000"
   ]
  },
  {
   "cell_type": "markdown",
   "metadata": {},
   "source": [
    "Residual blocks:\n",
    "Generator layers: 4 & Discriminator layers: 4"
   ]
  },
  {
   "cell_type": "code",
   "execution_count": null,
   "metadata": {},
   "outputs": [],
   "source": [
    "!python cumgan_imagenet_resnet.py --epochs 500000 --disc_iters 5 \\\n",
    "        --mode wgan-gp --beta 0 --gamma 0 --iteration 0 --sess_name imagenet_resnet_000"
   ]
  }
 ],
 "metadata": {
  "kernelspec": {
   "display_name": "Python 3",
   "language": "python",
   "name": "python3"
  },
  "language_info": {
   "codemirror_mode": {
    "name": "ipython",
    "version": 3
   },
   "file_extension": ".py",
   "mimetype": "text/x-python",
   "name": "python",
   "nbconvert_exporter": "python",
   "pygments_lexer": "ipython3",
   "version": "3.8.5"
  }
 },
 "nbformat": 4,
 "nbformat_minor": 4
}
